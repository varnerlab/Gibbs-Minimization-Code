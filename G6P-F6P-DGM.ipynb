{
 "cells": [
  {
   "cell_type": "markdown",
   "metadata": {},
   "source": [
    "#### Direct Gibbs Energy Minimization for a single ideal liquid phase reaction"
   ]
  },
  {
   "cell_type": "markdown",
   "metadata": {},
   "source": [
    "We know the Gibbs energy $G$ (J/mol) can be written as:\n",
    "\n",
    "\\begin{equation}\n",
    "G = \\sum_{i=1}^{\\mathcal{M}}n_{i}\\bar{G}_{i}\n",
    "\\end{equation}\n",
    "\n",
    "where $\\bar{G}_{i}$ denotes the partial Gibbs energy for component $i$:\n",
    "\n",
    "\\begin{equation}\n",
    "\\bar{G}_{i} = G_{i}^{\\circ}+RT\\ln\\left(\\frac{\\hat{f}_{i}}{f^{\\circ}_{i}}\\right)\n",
    "\\end{equation} \n",
    "\n",
    "and $n_{i}$ denotes the number of mol of component $i$; $n_{i}$ is a function of the extent of reaction and the stoichiometric coefficients.\n",
    "Lastly, $\\hat{f}_{i}$ and $f^{\\circ}_{i}$ denote the fugacity of component $i$ in the mixture, and the single species fugacity at standard conditions. Substituting our expressions for $\\bar{G}_{i}$ and $n_{i}$ into the Gibbs expression gives (after some simplification):\n",
    "\n",
    "\\begin{equation}\n",
    "\\epsilon\\left(\\frac{\\Delta{G}^{\\circ}}{RT}\\right) + \\sum_{i=1}^{\\mathcal{M}}n_{i}\\ln\\left(\\frac{\\hat{f}_{i}}{f^{\\circ}_{i}}\\right) = \\frac{G-\\sum_{i=1}^{\\mathcal{M}}n_{i}^{o}G^{\\circ}_{i}}{RT}\n",
    "\\end{equation}\n",
    "\n",
    "We can search over the extent of reaction $\\epsilon$ (or in a slightly different formulation the final composition directly) that minimizes the right-hand side energy expression (using Solver or some such optimization capability). \n",
    "\n",
    "Let's consider the case of the conversion of glucose-6-phosphate to fructose-6-phosphate by the enzyme phosphoglucose isomerase (PGI). Gibbs energy of formation values were taken from [eQuilibrator](http://equilibrator.weizmann.ac.il)."
   ]
  },
  {
   "cell_type": "markdown",
   "metadata": {},
   "source": [
    "# include -\n",
    "include(\"Includes.jl\")"
   ]
  },
  {
   "cell_type": "code",
   "execution_count": 20,
   "metadata": {},
   "outputs": [],
   "source": [
    "include(\"optim_single_ideal_reaction.jl\");"
   ]
  },
  {
   "cell_type": "code",
   "execution_count": 21,
   "metadata": {},
   "outputs": [
    {
     "data": {
      "text/plain": [
       "0.21964569537905904"
      ]
     },
     "execution_count": 21,
     "metadata": {},
     "output_type": "execute_result"
    }
   ],
   "source": [
    "scaled_extent = (extent_of_reaction)*(1/initial_mol_total) # scale by initial reactant mol"
   ]
  },
  {
   "cell_type": "markdown",
   "metadata": {},
   "source": [
    "#### How do we know is this is a good estimate of the equilibrium extent of reaction?"
   ]
  },
  {
   "cell_type": "markdown",
   "metadata": {},
   "source": [
    "We can use the estimated extent of reaction to evaluate the expression:\n",
    "\n",
    "\\begin{equation}\n",
    "\\frac{\\partial{G}}{\\partial\\epsilon} = \\Delta{G}^{\\circ}+RT\\ln\\prod_{i=1}^{\\mathcal{M}}\\left(\\frac{\\hat{f}_{i}}{f^{\\circ}_{i}}\\right)^{\\sigma_{i1}}\n",
    "\\end{equation}"
   ]
  },
  {
   "cell_type": "code",
   "execution_count": 19,
   "metadata": {},
   "outputs": [
    {
     "data": {
      "text/plain": [
       "2.2037070266378578e-5"
      ]
     },
     "execution_count": 19,
     "metadata": {},
     "output_type": "execute_result"
    }
   ],
   "source": [
    "total_delta_gibbs_energy # should be \"small\" if we have a good solution"
   ]
  },
  {
   "cell_type": "code",
   "execution_count": null,
   "metadata": {},
   "outputs": [],
   "source": []
  }
 ],
 "metadata": {
  "kernelspec": {
   "display_name": "Julia 1.2.0",
   "language": "julia",
   "name": "julia-1.2"
  },
  "language_info": {
   "file_extension": ".jl",
   "mimetype": "application/julia",
   "name": "julia",
   "version": "1.2.0"
  }
 },
 "nbformat": 4,
 "nbformat_minor": 2
}
