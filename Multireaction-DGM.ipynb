{
 "cells": [
  {
   "cell_type": "markdown",
   "metadata": {},
   "source": [
    "#### Direct Gibbs Energy Minimization for multiple coupled ideal liquid phase reactions"
   ]
  },
  {
   "cell_type": "markdown",
   "metadata": {},
   "source": [
    "We know the Gibbs energy $G$ (J/mol) can be written as:\n",
    "\n",
    "\\begin{equation}\n",
    "G = \\sum_{i=1}^{\\mathcal{M}}n_{i}\\bar{G}_{i}\n",
    "\\end{equation}\n",
    "\n",
    "where $\\bar{G}_{i}$ denotes the partial Gibbs energy for component $i$:\n",
    "\n",
    "\\begin{equation}\n",
    "\\bar{G}_{i} = G_{i}^{\\circ}+RT\\ln\\left(\\frac{\\hat{f}_{i}}{f^{\\circ}_{i}}\\right)\n",
    "\\end{equation} \n",
    "\n",
    "and $n_{i}$ denotes the number of mol of component $i$; $n_{i}$ is a function of the extent of reaction and the stoichiometric coefficients.\n",
    "Lastly, $\\hat{f}_{i}$ and $f^{\\circ}_{i}$ denote the fugacity of component $i$ in the mixture, and the single species fugacity at standard conditions. Substituting our expressions for $\\bar{G}_{i}$ and $n_{i}$ into the Gibbs expression gives (after some simplification):\n",
    "\n",
    "\\begin{equation}\n",
    "\\frac{G-\\displaystyle{\\sum_{i=1}^{\\mathcal{M}}}n_{i}^{o}G^{\\circ}_{i}}{RT} = \\sum_{j=1}^{\\mathcal{R}}\\epsilon_{j}\\left(\\frac{\\Delta{G}_{j}^{\\circ}}{RT}\\right) + \\sum_{i=1}^{\\mathcal{M}}n_{i}\\ln\\left(\\frac{\\hat{f}_{i}}{f^{\\circ}_{i}}\\right)\n",
    "\\end{equation}\n",
    "\n",
    "where $n_{i}$ is given by:\n",
    "\n",
    "\\begin{equation}\n",
    "n_{i} = n^{\\circ}_{i}+\\sum_{j=1}^{\\mathcal{R}}\\sigma_{ij}\\epsilon_{j}\\qquad{i=1,2,\\dots,\\mathcal{M}}\n",
    "\\end{equation}\n",
    "\n",
    "\n",
    "We can search over the collection of extents of reaction $\\epsilon_{j}$ (or in a slightly different formulation the final composition directly) that minimizes the right-hand side energy expression (using Solver or some such optimization capability). Let's consider the case of upper glycolysis (glucose to dihydroxyacetone-phosphate and glyceraldehyde-3-phosphate). Gibbs energy of formation values were taken from [eQuilibrator](http://equilibrator.weizmann.ac.il)."
   ]
  },
  {
   "cell_type": "code",
   "execution_count": 5,
   "metadata": {},
   "outputs": [],
   "source": [
    "# include -\n",
    "include(\"Includes.jl\");"
   ]
  },
  {
   "cell_type": "code",
   "execution_count": 20,
   "metadata": {},
   "outputs": [],
   "source": [
    "# compute the eq composition -\n",
    "include(\"optim_multiple_ideal_reactions.jl\");"
   ]
  },
  {
   "cell_type": "code",
   "execution_count": 21,
   "metadata": {},
   "outputs": [
    {
     "data": {
      "text/html": [
       "<table class=\"data-frame\"><thead><tr><th></th><th>species</th><th>initial</th><th>delta</th><th>final</th></tr><tr><th></th><th>Any</th><th>Float64</th><th>Float64</th><th>Float64</th></tr></thead><tbody><p>8 rows × 4 columns</p><tr><th>1</th><td>glucose</td><td>10.0</td><td>-9.99982</td><td>0.000176387</td></tr><tr><th>2</th><td>atp</td><td>20.0</td><td>-19.9998</td><td>0.000162602</td></tr><tr><th>3</th><td>glucose-6-phosphate</td><td>0.01</td><td>0.00965287</td><td>0.0196529</td></tr><tr><th>4</th><td>adp</td><td>0.01</td><td>19.9998</td><td>20.0098</td></tr><tr><th>5</th><td>fructose-6-phosphate</td><td>0.01</td><td>-0.00984304</td><td>0.000156961</td></tr><tr><th>6</th><td>D-fructose-1,6-bisphosphate</td><td>0.01</td><td>9.75911</td><td>9.76911</td></tr><tr><th>7</th><td>glyceraldehyde-3-phosphate</td><td>0.001</td><td>0.333204</td><td>0.334204</td></tr><tr><th>8</th><td>dihydroxyacetone-phosphate</td><td>0.001</td><td>0.14861</td><td>0.14961</td></tr></tbody></table>"
      ],
      "text/latex": [
       "\\begin{tabular}{r|cccc}\n",
       "\t& species & initial & delta & final\\\\\n",
       "\t\\hline\n",
       "\t& Any & Float64 & Float64 & Float64\\\\\n",
       "\t\\hline\n",
       "\t1 & glucose & 10.0 & -9.99982 & 0.000176387 \\\\\n",
       "\t2 & atp & 20.0 & -19.9998 & 0.000162602 \\\\\n",
       "\t3 & glucose-6-phosphate & 0.01 & 0.00965287 & 0.0196529 \\\\\n",
       "\t4 & adp & 0.01 & 19.9998 & 20.0098 \\\\\n",
       "\t5 & fructose-6-phosphate & 0.01 & -0.00984304 & 0.000156961 \\\\\n",
       "\t6 & D-fructose-1,6-bisphosphate & 0.01 & 9.75911 & 9.76911 \\\\\n",
       "\t7 & glyceraldehyde-3-phosphate & 0.001 & 0.333204 & 0.334204 \\\\\n",
       "\t8 & dihydroxyacetone-phosphate & 0.001 & 0.14861 & 0.14961 \\\\\n",
       "\\end{tabular}\n"
      ],
      "text/plain": [
       "8×4 DataFrame\n",
       "│ Row │ species                     │ initial │ delta       │ final       │\n",
       "│     │ \u001b[90mAny\u001b[39m                         │ \u001b[90mFloat64\u001b[39m │ \u001b[90mFloat64\u001b[39m     │ \u001b[90mFloat64\u001b[39m     │\n",
       "├─────┼─────────────────────────────┼─────────┼─────────────┼─────────────┤\n",
       "│ 1   │ glucose                     │ 10.0    │ -9.99982    │ 0.000176387 │\n",
       "│ 2   │ atp                         │ 20.0    │ -19.9998    │ 0.000162602 │\n",
       "│ 3   │ glucose-6-phosphate         │ 0.01    │ 0.00965287  │ 0.0196529   │\n",
       "│ 4   │ adp                         │ 0.01    │ 19.9998     │ 20.0098     │\n",
       "│ 5   │ fructose-6-phosphate        │ 0.01    │ -0.00984304 │ 0.000156961 │\n",
       "│ 6   │ D-fructose-1,6-bisphosphate │ 0.01    │ 9.75911     │ 9.76911     │\n",
       "│ 7   │ glyceraldehyde-3-phosphate  │ 0.001   │ 0.333204    │ 0.334204    │\n",
       "│ 8   │ dihydroxyacetone-phosphate  │ 0.001   │ 0.14861     │ 0.14961     │"
      ]
     },
     "execution_count": 21,
     "metadata": {},
     "output_type": "execute_result"
    }
   ],
   "source": [
    "df"
   ]
  },
  {
   "cell_type": "code",
   "execution_count": null,
   "metadata": {},
   "outputs": [],
   "source": []
  }
 ],
 "metadata": {
  "kernelspec": {
   "display_name": "Julia 1.2.0",
   "language": "julia",
   "name": "julia-1.2"
  },
  "language_info": {
   "file_extension": ".jl",
   "mimetype": "application/julia",
   "name": "julia",
   "version": "1.2.0"
  }
 },
 "nbformat": 4,
 "nbformat_minor": 2
}
